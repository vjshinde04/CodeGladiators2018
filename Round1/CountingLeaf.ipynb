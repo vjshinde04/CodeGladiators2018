{
 "cells": [
  {
   "cell_type": "code",
   "execution_count": 40,
   "metadata": {},
   "outputs": [],
   "source": [
    "tree = [1, 5, 5, 2, 2, -1, 3]\n",
    "\n",
    "\n",
    "#          5\n",
    "#        /  \\\n",
    "#       1    2\n",
    "#      /    / \\\n",
    "#     0    3   4\n",
    "#         /\n",
    "#       6 \n",
    "\n",
    "delNode = 2\n",
    "\n",
    "#5\n",
    "#-1 0 0 1 1\n",
    "#2\n",
    "\n",
    "#      0\n",
    "#    \n",
    "#    1   2\n",
    "#\n",
    "#  3  4"
   ]
  },
  {
   "cell_type": "code",
   "execution_count": 31,
   "metadata": {},
   "outputs": [
    {
     "name": "stdout",
     "output_type": "stream",
     "text": [
      "[1, 5, 0, 0, 0, -1, 3]\n"
     ]
    }
   ],
   "source": [
    "nodes = tree\n",
    "for i in range(len(tree)):\n",
    "    if tree[i] == delNode:\n",
    "        nodes[i] = 0\n",
    "    tree[delNode] = 0\n",
    "print(nodes)"
   ]
  },
  {
   "cell_type": "code",
   "execution_count": 41,
   "metadata": {},
   "outputs": [
    {
     "name": "stdout",
     "output_type": "stream",
     "text": [
      "[1, 5, 0, 0, 0, -1, 3]\n"
     ]
    }
   ],
   "source": [
    "def flag(tree, delNode):\n",
    "    for i,value in enumerate(tree):\n",
    "        if tree[i] == delNode:\n",
    "            tree[i] = 0\n",
    "            tree[delNode] = 0\n",
    "            flag(tree, value)\n",
    "flag(tree, delNode)\n",
    "print(tree)"
   ]
  }
 ],
 "metadata": {
  "kernelspec": {
   "display_name": "Python 3",
   "language": "python",
   "name": "python3"
  },
  "language_info": {
   "codemirror_mode": {
    "name": "ipython",
    "version": 3
   },
   "file_extension": ".py",
   "mimetype": "text/x-python",
   "name": "python",
   "nbconvert_exporter": "python",
   "pygments_lexer": "ipython3",
   "version": "3.6.4"
  }
 },
 "nbformat": 4,
 "nbformat_minor": 2
}
